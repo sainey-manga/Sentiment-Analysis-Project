{
 "cells": [
  {
   "cell_type": "code",
   "execution_count": 170,
   "metadata": {},
   "outputs": [],
   "source": [
    "import pandas as pd\n",
    "import numpy as np\n",
    "import seaborn as sns\n",
    "import matplotlib.pyplot as plt\n",
    "import nltk\n",
    "from sklearn.feature_extraction.text import TfidfVectorizer\n",
    "from sklearn.naive_bayes import MultinomialNB\n",
    "from sklearn.ensemble import VotingClassifier,RandomForestClassifier,GradientBoostingClassifier\n",
    "from sklearn.model_selection import train_test_split\n",
    "from sklearn.linear_model import LogisticRegression\n",
    "from sklearn.model_selection import cross_val_score\n",
    "from scipy.sparse import hstack\n",
    "from sklearn.svm import LinearSVC"
   ]
  },
  {
   "cell_type": "code",
   "execution_count": 367,
   "metadata": {},
   "outputs": [],
   "source": [
    "train_df = pd.read_csv(\"/Users/saineymanga/Desktop/train-balanced-sarcasm.csv\")\n",
    "test_df = pd.read_csv(\"/Users/saineymanga/Desktop/test-balanced.csv\")"
   ]
  },
  {
   "cell_type": "code",
   "execution_count": 368,
   "metadata": {},
   "outputs": [
    {
     "data": {
      "text/html": [
       "<div>\n",
       "<style scoped>\n",
       "    .dataframe tbody tr th:only-of-type {\n",
       "        vertical-align: middle;\n",
       "    }\n",
       "\n",
       "    .dataframe tbody tr th {\n",
       "        vertical-align: top;\n",
       "    }\n",
       "\n",
       "    .dataframe thead th {\n",
       "        text-align: right;\n",
       "    }\n",
       "</style>\n",
       "<table border=\"1\" class=\"dataframe\">\n",
       "  <thead>\n",
       "    <tr style=\"text-align: right;\">\n",
       "      <th></th>\n",
       "      <th>label</th>\n",
       "      <th>comment</th>\n",
       "      <th>author</th>\n",
       "      <th>subreddit</th>\n",
       "      <th>score</th>\n",
       "      <th>ups</th>\n",
       "      <th>downs</th>\n",
       "      <th>date</th>\n",
       "      <th>created_utc</th>\n",
       "      <th>parent_comment</th>\n",
       "    </tr>\n",
       "  </thead>\n",
       "  <tbody>\n",
       "    <tr>\n",
       "      <td>0</td>\n",
       "      <td>0</td>\n",
       "      <td>NC and NH.</td>\n",
       "      <td>Trumpbart</td>\n",
       "      <td>politics</td>\n",
       "      <td>2</td>\n",
       "      <td>-1</td>\n",
       "      <td>-1</td>\n",
       "      <td>2016-10</td>\n",
       "      <td>2016-10-16 23:55:23</td>\n",
       "      <td>Yeah, I get that argument. At this point, I'd ...</td>\n",
       "    </tr>\n",
       "    <tr>\n",
       "      <td>1</td>\n",
       "      <td>0</td>\n",
       "      <td>You do know west teams play against west teams...</td>\n",
       "      <td>Shbshb906</td>\n",
       "      <td>nba</td>\n",
       "      <td>-4</td>\n",
       "      <td>-1</td>\n",
       "      <td>-1</td>\n",
       "      <td>2016-11</td>\n",
       "      <td>2016-11-01 00:24:10</td>\n",
       "      <td>The blazers and Mavericks (The wests 5 and 6 s...</td>\n",
       "    </tr>\n",
       "    <tr>\n",
       "      <td>2</td>\n",
       "      <td>0</td>\n",
       "      <td>They were underdogs earlier today, but since G...</td>\n",
       "      <td>Creepeth</td>\n",
       "      <td>nfl</td>\n",
       "      <td>3</td>\n",
       "      <td>3</td>\n",
       "      <td>0</td>\n",
       "      <td>2016-09</td>\n",
       "      <td>2016-09-22 21:45:37</td>\n",
       "      <td>They're favored to win.</td>\n",
       "    </tr>\n",
       "    <tr>\n",
       "      <td>3</td>\n",
       "      <td>0</td>\n",
       "      <td>This meme isn't funny none of the \"new york ni...</td>\n",
       "      <td>icebrotha</td>\n",
       "      <td>BlackPeopleTwitter</td>\n",
       "      <td>-8</td>\n",
       "      <td>-1</td>\n",
       "      <td>-1</td>\n",
       "      <td>2016-10</td>\n",
       "      <td>2016-10-18 21:03:47</td>\n",
       "      <td>deadass don't kill my buzz</td>\n",
       "    </tr>\n",
       "    <tr>\n",
       "      <td>4</td>\n",
       "      <td>0</td>\n",
       "      <td>I could use one of those tools.</td>\n",
       "      <td>cush2push</td>\n",
       "      <td>MaddenUltimateTeam</td>\n",
       "      <td>6</td>\n",
       "      <td>-1</td>\n",
       "      <td>-1</td>\n",
       "      <td>2016-12</td>\n",
       "      <td>2016-12-30 17:00:13</td>\n",
       "      <td>Yep can confirm I saw the tool they use for th...</td>\n",
       "    </tr>\n",
       "  </tbody>\n",
       "</table>\n",
       "</div>"
      ],
      "text/plain": [
       "   label                                            comment     author  \\\n",
       "0      0                                         NC and NH.  Trumpbart   \n",
       "1      0  You do know west teams play against west teams...  Shbshb906   \n",
       "2      0  They were underdogs earlier today, but since G...   Creepeth   \n",
       "3      0  This meme isn't funny none of the \"new york ni...  icebrotha   \n",
       "4      0                    I could use one of those tools.  cush2push   \n",
       "\n",
       "            subreddit  score  ups  downs     date          created_utc  \\\n",
       "0            politics      2   -1     -1  2016-10  2016-10-16 23:55:23   \n",
       "1                 nba     -4   -1     -1  2016-11  2016-11-01 00:24:10   \n",
       "2                 nfl      3    3      0  2016-09  2016-09-22 21:45:37   \n",
       "3  BlackPeopleTwitter     -8   -1     -1  2016-10  2016-10-18 21:03:47   \n",
       "4  MaddenUltimateTeam      6   -1     -1  2016-12  2016-12-30 17:00:13   \n",
       "\n",
       "                                      parent_comment  \n",
       "0  Yeah, I get that argument. At this point, I'd ...  \n",
       "1  The blazers and Mavericks (The wests 5 and 6 s...  \n",
       "2                            They're favored to win.  \n",
       "3                         deadass don't kill my buzz  \n",
       "4  Yep can confirm I saw the tool they use for th...  "
      ]
     },
     "execution_count": 368,
     "metadata": {},
     "output_type": "execute_result"
    }
   ],
   "source": [
    "train_df.head()"
   ]
  },
  {
   "cell_type": "code",
   "execution_count": 369,
   "metadata": {},
   "outputs": [
    {
     "data": {
      "text/plain": [
       "(1010826, 10)"
      ]
     },
     "execution_count": 369,
     "metadata": {},
     "output_type": "execute_result"
    }
   ],
   "source": [
    "train_df.shape"
   ]
  },
  {
   "cell_type": "code",
   "execution_count": 370,
   "metadata": {},
   "outputs": [
    {
     "data": {
      "text/plain": [
       "label              0\n",
       "comment           53\n",
       "author             0\n",
       "subreddit          0\n",
       "score              0\n",
       "ups                0\n",
       "downs              0\n",
       "date               0\n",
       "created_utc        0\n",
       "parent_comment     0\n",
       "dtype: int64"
      ]
     },
     "execution_count": 370,
     "metadata": {},
     "output_type": "execute_result"
    }
   ],
   "source": [
    "train_df.isnull().sum()"
   ]
  },
  {
   "cell_type": "code",
   "execution_count": 371,
   "metadata": {},
   "outputs": [],
   "source": [
    "## Here, we do not need the cooment column, but of course it does not affect anything\n",
    "train_df = train_df[['label', 'comment', 'subreddit', 'parent_comment']]"
   ]
  },
  {
   "cell_type": "code",
   "execution_count": 372,
   "metadata": {},
   "outputs": [
    {
     "data": {
      "text/html": [
       "<div>\n",
       "<style scoped>\n",
       "    .dataframe tbody tr th:only-of-type {\n",
       "        vertical-align: middle;\n",
       "    }\n",
       "\n",
       "    .dataframe tbody tr th {\n",
       "        vertical-align: top;\n",
       "    }\n",
       "\n",
       "    .dataframe thead th {\n",
       "        text-align: right;\n",
       "    }\n",
       "</style>\n",
       "<table border=\"1\" class=\"dataframe\">\n",
       "  <thead>\n",
       "    <tr style=\"text-align: right;\">\n",
       "      <th></th>\n",
       "      <th>label</th>\n",
       "      <th>comment</th>\n",
       "      <th>subreddit</th>\n",
       "      <th>parent_comment</th>\n",
       "    </tr>\n",
       "  </thead>\n",
       "  <tbody>\n",
       "    <tr>\n",
       "      <td>0</td>\n",
       "      <td>0</td>\n",
       "      <td>NC and NH.</td>\n",
       "      <td>politics</td>\n",
       "      <td>Yeah, I get that argument. At this point, I'd ...</td>\n",
       "    </tr>\n",
       "    <tr>\n",
       "      <td>1</td>\n",
       "      <td>0</td>\n",
       "      <td>You do know west teams play against west teams...</td>\n",
       "      <td>nba</td>\n",
       "      <td>The blazers and Mavericks (The wests 5 and 6 s...</td>\n",
       "    </tr>\n",
       "    <tr>\n",
       "      <td>2</td>\n",
       "      <td>0</td>\n",
       "      <td>They were underdogs earlier today, but since G...</td>\n",
       "      <td>nfl</td>\n",
       "      <td>They're favored to win.</td>\n",
       "    </tr>\n",
       "    <tr>\n",
       "      <td>3</td>\n",
       "      <td>0</td>\n",
       "      <td>This meme isn't funny none of the \"new york ni...</td>\n",
       "      <td>BlackPeopleTwitter</td>\n",
       "      <td>deadass don't kill my buzz</td>\n",
       "    </tr>\n",
       "    <tr>\n",
       "      <td>4</td>\n",
       "      <td>0</td>\n",
       "      <td>I could use one of those tools.</td>\n",
       "      <td>MaddenUltimateTeam</td>\n",
       "      <td>Yep can confirm I saw the tool they use for th...</td>\n",
       "    </tr>\n",
       "    <tr>\n",
       "      <td>5</td>\n",
       "      <td>0</td>\n",
       "      <td>I don't pay attention to her, but as long as s...</td>\n",
       "      <td>AskReddit</td>\n",
       "      <td>do you find ariana grande sexy ?</td>\n",
       "    </tr>\n",
       "    <tr>\n",
       "      <td>6</td>\n",
       "      <td>0</td>\n",
       "      <td>Trick or treating in general is just weird...</td>\n",
       "      <td>AskReddit</td>\n",
       "      <td>What's your weird or unsettling Trick or Treat...</td>\n",
       "    </tr>\n",
       "    <tr>\n",
       "      <td>7</td>\n",
       "      <td>0</td>\n",
       "      <td>Blade Mastery+Masamune or GTFO!</td>\n",
       "      <td>FFBraveExvius</td>\n",
       "      <td>Probably Sephiroth. I refuse to taint his grea...</td>\n",
       "    </tr>\n",
       "    <tr>\n",
       "      <td>8</td>\n",
       "      <td>0</td>\n",
       "      <td>You don't have to, you have a good build, buy ...</td>\n",
       "      <td>pcmasterrace</td>\n",
       "      <td>What to upgrade? I have $500 to spend (mainly ...</td>\n",
       "    </tr>\n",
       "    <tr>\n",
       "      <td>9</td>\n",
       "      <td>0</td>\n",
       "      <td>I would love to see him at lolla.</td>\n",
       "      <td>Lollapalooza</td>\n",
       "      <td>Probably count Kanye out Since the rest of his...</td>\n",
       "    </tr>\n",
       "  </tbody>\n",
       "</table>\n",
       "</div>"
      ],
      "text/plain": [
       "   label                                            comment  \\\n",
       "0      0                                         NC and NH.   \n",
       "1      0  You do know west teams play against west teams...   \n",
       "2      0  They were underdogs earlier today, but since G...   \n",
       "3      0  This meme isn't funny none of the \"new york ni...   \n",
       "4      0                    I could use one of those tools.   \n",
       "5      0  I don't pay attention to her, but as long as s...   \n",
       "6      0      Trick or treating in general is just weird...   \n",
       "7      0                    Blade Mastery+Masamune or GTFO!   \n",
       "8      0  You don't have to, you have a good build, buy ...   \n",
       "9      0                  I would love to see him at lolla.   \n",
       "\n",
       "            subreddit                                     parent_comment  \n",
       "0            politics  Yeah, I get that argument. At this point, I'd ...  \n",
       "1                 nba  The blazers and Mavericks (The wests 5 and 6 s...  \n",
       "2                 nfl                            They're favored to win.  \n",
       "3  BlackPeopleTwitter                         deadass don't kill my buzz  \n",
       "4  MaddenUltimateTeam  Yep can confirm I saw the tool they use for th...  \n",
       "5           AskReddit                   do you find ariana grande sexy ?  \n",
       "6           AskReddit  What's your weird or unsettling Trick or Treat...  \n",
       "7       FFBraveExvius  Probably Sephiroth. I refuse to taint his grea...  \n",
       "8        pcmasterrace  What to upgrade? I have $500 to spend (mainly ...  \n",
       "9        Lollapalooza  Probably count Kanye out Since the rest of his...  "
      ]
     },
     "execution_count": 372,
     "metadata": {},
     "output_type": "execute_result"
    }
   ],
   "source": [
    "train_df.head(10)"
   ]
  },
  {
   "cell_type": "code",
   "execution_count": 373,
   "metadata": {},
   "outputs": [],
   "source": [
    "#find comments that contain url\n",
    "urls=train_df['parent_comment'].str.contains('https?://(?:[-\\w.]|(?:%[\\da-fA-F]{2}))+', regex=True) \n",
    "new = np.invert(urls)\n",
    "train_df = train_df[new]"
   ]
  },
  {
   "cell_type": "code",
   "execution_count": 374,
   "metadata": {},
   "outputs": [
    {
     "data": {
      "text/plain": [
       "(1010707, 4)"
      ]
     },
     "execution_count": 374,
     "metadata": {},
     "output_type": "execute_result"
    }
   ],
   "source": [
    "train_df.shape"
   ]
  },
  {
   "cell_type": "code",
   "execution_count": 375,
   "metadata": {},
   "outputs": [
    {
     "data": {
      "image/png": "[encoded data removed]",
      "text/plain": [
       "<Figure size 360x360 with 1 Axes>"
      ]
     },
     "metadata": {
      "needs_background": "light"
     },
     "output_type": "display_data"
    }
   ],
   "source": [
    "## Visualizing the balanceness of the labels\n",
    "plt.figure(figsize=(5,5))\n",
    "ax = sns.countplot(x='label',  data= train_df)\n",
    "ax.set(title = \"Distribution of Classes\", xlabel=\"Sarcasm Status\", ylabel = \"Total Count\")\n",
    "total = float(len(train_df ))\n",
    "for p in ax.patches:\n",
    "    height = p.get_height()\n",
    "    ax.text(p.get_x()+p.get_width()/2.,\n",
    "            height + 3,\n",
    "            '{:1.1f}%'.format((height/total)*100),\n",
    "            ha=\"center\") \n",
    "plt.show()"
   ]
  },
  {
   "cell_type": "code",
   "execution_count": 376,
   "metadata": {},
   "outputs": [
    {
     "data": {
      "text/html": [
       "<div>\n",
       "<style scoped>\n",
       "    .dataframe tbody tr th:only-of-type {\n",
       "        vertical-align: middle;\n",
       "    }\n",
       "\n",
       "    .dataframe tbody tr th {\n",
       "        vertical-align: top;\n",
       "    }\n",
       "\n",
       "    .dataframe thead th {\n",
       "        text-align: right;\n",
       "    }\n",
       "</style>\n",
       "<table border=\"1\" class=\"dataframe\">\n",
       "  <thead>\n",
       "    <tr style=\"text-align: right;\">\n",
       "      <th></th>\n",
       "      <th>size</th>\n",
       "      <th>mean</th>\n",
       "      <th>sum</th>\n",
       "    </tr>\n",
       "    <tr>\n",
       "      <th>subreddit</th>\n",
       "      <th></th>\n",
       "      <th></th>\n",
       "      <th></th>\n",
       "    </tr>\n",
       "  </thead>\n",
       "  <tbody>\n",
       "    <tr>\n",
       "      <td>creepyPMs</td>\n",
       "      <td>5466</td>\n",
       "      <td>0.784303</td>\n",
       "      <td>4287</td>\n",
       "    </tr>\n",
       "    <tr>\n",
       "      <td>MensRights</td>\n",
       "      <td>3356</td>\n",
       "      <td>0.680870</td>\n",
       "      <td>2285</td>\n",
       "    </tr>\n",
       "    <tr>\n",
       "      <td>ShitRedditSays</td>\n",
       "      <td>1283</td>\n",
       "      <td>0.661730</td>\n",
       "      <td>849</td>\n",
       "    </tr>\n",
       "    <tr>\n",
       "      <td>worldnews</td>\n",
       "      <td>26377</td>\n",
       "      <td>0.642529</td>\n",
       "      <td>16948</td>\n",
       "    </tr>\n",
       "    <tr>\n",
       "      <td>Libertarian</td>\n",
       "      <td>2562</td>\n",
       "      <td>0.640125</td>\n",
       "      <td>1640</td>\n",
       "    </tr>\n",
       "  </tbody>\n",
       "</table>\n",
       "</div>"
      ],
      "text/plain": [
       "                 size      mean    sum\n",
       "subreddit                             \n",
       "creepyPMs        5466  0.784303   4287\n",
       "MensRights       3356  0.680870   2285\n",
       "ShitRedditSays   1283  0.661730    849\n",
       "worldnews       26377  0.642529  16948\n",
       "Libertarian      2562  0.640125   1640"
      ]
     },
     "execution_count": 376,
     "metadata": {},
     "output_type": "execute_result"
    }
   ],
   "source": [
    "## Group by to analyze subreddits\n",
    "sub_df = train_df.groupby('subreddit')['label'].agg([np.size, np.mean, np.sum])\n",
    "sub_df[sub_df['size'] > 1000].sort_values(by='mean', ascending=False).head(5)"
   ]
  },
  {
   "cell_type": "code",
   "execution_count": 377,
   "metadata": {},
   "outputs": [
    {
     "data": {
      "text/plain": [
       "AskReddit          65669\n",
       "politics           39494\n",
       "worldnews          26377\n",
       "leagueoflegends    21037\n",
       "pcmasterrace       18987\n",
       "Name: subreddit, dtype: int64"
      ]
     },
     "execution_count": 377,
     "metadata": {},
     "output_type": "execute_result"
    }
   ],
   "source": [
    "# Getting the top 5 popular subreddits\n",
    "train_df['subreddit'].value_counts()[:5]"
   ]
  },
  {
   "cell_type": "code",
   "execution_count": 378,
   "metadata": {},
   "outputs": [],
   "source": [
    "top_reddits =['AskReddit', 'politics', 'worldnews', 'leagueoflegends', 'pcmasterrace']"
   ]
  },
  {
   "cell_type": "code",
   "execution_count": 379,
   "metadata": {},
   "outputs": [],
   "source": [
    "subreddit = pd.DataFrame()\n",
    "subreddit['subreddit'] = top_reddits\n",
    "subreddit['sarcastic'] = np.nan\n",
    "subreddit['natural'] = np.nan\n",
    "subreddit['total'] = np.nan"
   ]
  },
  {
   "cell_type": "code",
   "execution_count": 380,
   "metadata": {},
   "outputs": [
    {
     "name": "stderr",
     "output_type": "stream",
     "text": [
      "/Users/saineymanga/opt/anaconda3/lib/python3.7/site-packages/pandas/core/indexing.py:205: SettingWithCopyWarning: \n",
      "A value is trying to be set on a copy of a slice from a DataFrame\n",
      "\n",
      "See the caveats in the documentation: http://pandas.pydata.org/pandas-docs/stable/user_guide/indexing.html#returning-a-view-versus-a-copy\n",
      "  self._setitem_with_indexer(indexer, value)\n"
     ]
    }
   ],
   "source": [
    "# Calculating the count of Sarcastic and Natural comments for the top 5 subreddits \n",
    "for i in range(len(top_reddits)):\n",
    "    temp = train_df.loc[train_df['subreddit'] == subreddit.subreddit.iloc[i]]\n",
    "    length = len(temp)\n",
    "    count_sarcastic = len(temp.loc[temp['label'] == 1])\n",
    "    subreddit.sarcastic.iloc[i] = count_sarcastic\n",
    "    subreddit.natural.iloc[i] = length - count_sarcastic\n",
    "    subreddit.total.iloc[i] = length"
   ]
  },
  {
   "cell_type": "code",
   "execution_count": 381,
   "metadata": {
    "scrolled": false
   },
   "outputs": [
    {
     "data": {
      "text/html": [
       "<div>\n",
       "<style scoped>\n",
       "    .dataframe tbody tr th:only-of-type {\n",
       "        vertical-align: middle;\n",
       "    }\n",
       "\n",
       "    .dataframe tbody tr th {\n",
       "        vertical-align: top;\n",
       "    }\n",
       "\n",
       "    .dataframe thead th {\n",
       "        text-align: right;\n",
       "    }\n",
       "</style>\n",
       "<table border=\"1\" class=\"dataframe\">\n",
       "  <thead>\n",
       "    <tr style=\"text-align: right;\">\n",
       "      <th></th>\n",
       "      <th>subreddit</th>\n",
       "      <th>sarcastic</th>\n",
       "      <th>natural</th>\n",
       "      <th>total</th>\n",
       "    </tr>\n",
       "  </thead>\n",
       "  <tbody>\n",
       "    <tr>\n",
       "      <td>0</td>\n",
       "      <td>AskReddit</td>\n",
       "      <td>26363.0</td>\n",
       "      <td>39306.0</td>\n",
       "      <td>65669.0</td>\n",
       "    </tr>\n",
       "    <tr>\n",
       "      <td>1</td>\n",
       "      <td>politics</td>\n",
       "      <td>23910.0</td>\n",
       "      <td>15584.0</td>\n",
       "      <td>39494.0</td>\n",
       "    </tr>\n",
       "    <tr>\n",
       "      <td>2</td>\n",
       "      <td>worldnews</td>\n",
       "      <td>16948.0</td>\n",
       "      <td>9429.0</td>\n",
       "      <td>26377.0</td>\n",
       "    </tr>\n",
       "    <tr>\n",
       "      <td>3</td>\n",
       "      <td>leagueoflegends</td>\n",
       "      <td>11409.0</td>\n",
       "      <td>9628.0</td>\n",
       "      <td>21037.0</td>\n",
       "    </tr>\n",
       "    <tr>\n",
       "      <td>4</td>\n",
       "      <td>pcmasterrace</td>\n",
       "      <td>10760.0</td>\n",
       "      <td>8227.0</td>\n",
       "      <td>18987.0</td>\n",
       "    </tr>\n",
       "  </tbody>\n",
       "</table>\n",
       "</div>"
      ],
      "text/plain": [
       "         subreddit  sarcastic  natural    total\n",
       "0        AskReddit    26363.0  39306.0  65669.0\n",
       "1         politics    23910.0  15584.0  39494.0\n",
       "2        worldnews    16948.0   9429.0  26377.0\n",
       "3  leagueoflegends    11409.0   9628.0  21037.0\n",
       "4     pcmasterrace    10760.0   8227.0  18987.0"
      ]
     },
     "execution_count": 381,
     "metadata": {},
     "output_type": "execute_result"
    }
   ],
   "source": [
    "subreddit"
   ]
  },
  {
   "cell_type": "code",
   "execution_count": 382,
   "metadata": {},
   "outputs": [
    {
     "data": {
      "image/png": "[encoded data removed]",
      "text/plain": [
       "<Figure size 1080x360 with 1 Axes>"
      ]
     },
     "metadata": {
      "needs_background": "light"
     },
     "output_type": "display_data"
    }
   ],
   "source": [
    "# Initialize the matplotlib figure\n",
    "f, ax = plt.subplots(figsize=(15, 5))\n",
    "# Plot the total comments for the subreddits\n",
    "sns.barplot(x=\"total\", y=\"subreddit\", data=subreddit,\n",
    "            label=\"Total\", color=\"b\")\n",
    "# Plot the total sarcastic comments for the subreddits\n",
    "sns.barplot(x=\"sarcastic\", y=\"subreddit\", data=subreddit,\n",
    "            label=\"Sarcastic Comments\", color=\"r\")\n",
    "ax.legend(ncol=2, loc=\"lower right\", frameon=True)\n",
    "ax.set( ylabel=\"Subreddits\",\n",
    "       xlabel=\"Total number of comments\")\n",
    "sns.despine(left=True, bottom=True)"
   ]
  },
  {
   "cell_type": "markdown",
   "metadata": {},
   "source": [
    "# MODEL FITTING"
   ]
  },
  {
   "cell_type": "code",
   "execution_count": 383,
   "metadata": {},
   "outputs": [],
   "source": [
    "from sklearn.pipeline import Pipeline, FeatureUnion\n",
    "from sklearn.preprocessing import FunctionTransformer\n",
    "from sklearn.model_selection import train_test_split"
   ]
  },
  {
   "cell_type": "code",
   "execution_count": 384,
   "metadata": {},
   "outputs": [
    {
     "data": {
      "text/plain": [
       "0          False\n",
       "1          False\n",
       "2          False\n",
       "3          False\n",
       "4          False\n",
       "           ...  \n",
       "1010821    False\n",
       "1010822    False\n",
       "1010823    False\n",
       "1010824    False\n",
       "1010825    False\n",
       "Name: parent_comment, Length: 1010707, dtype: bool"
      ]
     },
     "execution_count": 384,
     "metadata": {},
     "output_type": "execute_result"
    }
   ],
   "source": [
    "tokenizer = Tokenizer()\n",
    "train_df['parent_comment']== tokenizer.fit_on_texts(train_df['parent_comment'])"
   ]
  },
  {
   "cell_type": "code",
   "execution_count": 385,
   "metadata": {},
   "outputs": [
    {
     "name": "stdout",
     "output_type": "stream",
     "text": [
      "(808565, 2) (808565,)\n"
     ]
    },
    {
     "data": {
      "text/html": [
       "<div>\n",
       "<style scoped>\n",
       "    .dataframe tbody tr th:only-of-type {\n",
       "        vertical-align: middle;\n",
       "    }\n",
       "\n",
       "    .dataframe tbody tr th {\n",
       "        vertical-align: top;\n",
       "    }\n",
       "\n",
       "    .dataframe thead th {\n",
       "        text-align: right;\n",
       "    }\n",
       "</style>\n",
       "<table border=\"1\" class=\"dataframe\">\n",
       "  <thead>\n",
       "    <tr style=\"text-align: right;\">\n",
       "      <th></th>\n",
       "      <th>subreddit</th>\n",
       "      <th>parent_comment</th>\n",
       "    </tr>\n",
       "  </thead>\n",
       "  <tbody>\n",
       "    <tr>\n",
       "      <td>520704</td>\n",
       "      <td>SubredditDrama</td>\n",
       "      <td>\"Native American\" isn't the same as \"native\"....</td>\n",
       "    </tr>\n",
       "    <tr>\n",
       "      <td>970202</td>\n",
       "      <td>battlefield_4</td>\n",
       "      <td>Get off the roofs and stop sniping.</td>\n",
       "    </tr>\n",
       "    <tr>\n",
       "      <td>132030</td>\n",
       "      <td>starbound</td>\n",
       "      <td>Boat Elevator</td>\n",
       "    </tr>\n",
       "    <tr>\n",
       "      <td>587463</td>\n",
       "      <td>cringepics</td>\n",
       "      <td>No such thing as overkill.</td>\n",
       "    </tr>\n",
       "    <tr>\n",
       "      <td>282140</td>\n",
       "      <td>pokemontrades</td>\n",
       "      <td>Sent! Hope you enjoy!</td>\n",
       "    </tr>\n",
       "  </tbody>\n",
       "</table>\n",
       "</div>"
      ],
      "text/plain": [
       "             subreddit                                    parent_comment\n",
       "520704  SubredditDrama  \"Native American\" isn't the same as \"native\"....\n",
       "970202   battlefield_4               Get off the roofs and stop sniping.\n",
       "132030       starbound                                     Boat Elevator\n",
       "587463      cringepics                        No such thing as overkill.\n",
       "282140   pokemontrades                             Sent! Hope you enjoy!"
      ]
     },
     "execution_count": 385,
     "metadata": {},
     "output_type": "execute_result"
    }
   ],
   "source": [
    "y = train_df['label']\n",
    "X_train, X_test, y_train, y_test = train_test_split(train_df[['subreddit', 'parent_comment']], y, test_size=0.2)\n",
    "print(X_train.shape, y_train.shape)\n",
    "#print(X_test.shape, y_test.shape)\n",
    "X_train.head()"
   ]
  },
  {
   "cell_type": "code",
   "execution_count": 386,
   "metadata": {},
   "outputs": [
    {
     "name": "stderr",
     "output_type": "stream",
     "text": [
      "[Parallel(n_jobs=4)]: Using backend LokyBackend with 4 concurrent workers.\n",
      "[Parallel(n_jobs=4)]: Done   1 out of   1 | elapsed:   45.1s finished\n"
     ]
    }
   ],
   "source": [
    "# build bigrams, put a limit on maximal number of features\n",
    "# and minimal word frequency\n",
    "tf_idf_parent = TfidfVectorizer(ngram_range=(1, 3), max_features=100000, min_df=2,\n",
    "                         token_pattern='\\S+')\n",
    "tf_idf_subreddit = TfidfVectorizer(ngram_range=(1, 2), max_features=10000, min_df=3,\n",
    "                         token_pattern='\\S+')\n",
    "def fn(x):\n",
    "    if isinstance(x, list): x = x[0]\n",
    "    return x['parent_comment']\n",
    "\n",
    "def fn2(x):\n",
    "    if isinstance(x, list): x = x[0]\n",
    "    return x['subreddit']\n",
    "\n",
    "transformer = FeatureUnion([('tf_idf_parent', \n",
    "                            Pipeline([('extract_field', FunctionTransformer(fn, validate=False)),\n",
    "                                        ('tfidf', tf_idf_parent)])),\n",
    "                            ('tf_idf_subreddit', \n",
    "                            Pipeline([('extract_field', FunctionTransformer(fn2, validate=False)),\n",
    "                                        ('tfidf', tf_idf_subreddit)]))])\n",
    "\n",
    "#logistic regression \n",
    "logit = LogisticRegression(C=0.1, n_jobs=4, solver='lbfgs', max_iter=1000, verbose=1)\n",
    "tfidf_logit_pipeline = Pipeline([('transformer', transformer), \n",
    "                                 ('logit', logit)])\n",
    "## Applying the pipeline to see the difference with Cross_val_score\n",
    "fit=tfidf_logit_pipeline.fit(X_train, y_train)"
   ]
  },
  {
   "cell_type": "code",
   "execution_count": 387,
   "metadata": {},
   "outputs": [
    {
     "data": {
      "text/plain": [
       "0.5994845207824203"
      ]
     },
     "execution_count": 387,
     "metadata": {},
     "output_type": "execute_result"
    }
   ],
   "source": [
    "fit.score(X_test, y_test)"
   ]
  },
  {
   "cell_type": "code",
   "execution_count": 388,
   "metadata": {},
   "outputs": [],
   "source": [
    "X=transformer.fit_transform(X_train)### vectorizing the input to apply the cross_val_score"
   ]
  },
  {
   "cell_type": "code",
   "execution_count": 389,
   "metadata": {},
   "outputs": [
    {
     "data": {
      "text/plain": [
       "0.5990155398762005"
      ]
     },
     "execution_count": 389,
     "metadata": {},
     "output_type": "execute_result"
    }
   ],
   "source": [
    "##Logistic regression\n",
    "logit = LogisticRegression(C=0.1, n_jobs=4, solver='lbfgs', max_iter=1000, verbose=1)\n",
    "\n",
    "lgr = np.mean(cross_val_score(logit, X, y_train, cv=5, n_jobs=4))\n",
    "lgr"
   ]
  },
  {
   "cell_type": "code",
   "execution_count": 390,
   "metadata": {},
   "outputs": [],
   "source": [
    "## SVM\n",
    "svc = LinearSVC(penalty='l2',dual=False,class_weight='balanced',max_iter=10000)"
   ]
  },
  {
   "cell_type": "code",
   "execution_count": 391,
   "metadata": {},
   "outputs": [
    {
     "data": {
      "text/plain": [
       "0.5735209908912704"
      ]
     },
     "execution_count": 391,
     "metadata": {},
     "output_type": "execute_result"
    }
   ],
   "source": [
    "svm= np.mean(cross_val_score(svc, X, y_train, cv=5, n_jobs= 4))\n",
    "svm"
   ]
  },
  {
   "cell_type": "code",
   "execution_count": 392,
   "metadata": {},
   "outputs": [],
   "source": [
    "##Naive Bayes\n",
    "NB = MultinomialNB()"
   ]
  },
  {
   "cell_type": "code",
   "execution_count": 393,
   "metadata": {},
   "outputs": [
    {
     "data": {
      "text/plain": [
       "0.5955167488080736"
      ]
     },
     "execution_count": 393,
     "metadata": {},
     "output_type": "execute_result"
    }
   ],
   "source": [
    "nbs= np.mean(cross_val_score(NB, X, y_train, cv=5, n_jobs= 4))\n",
    "nbs"
   ]
  },
  {
   "cell_type": "code",
   "execution_count": 394,
   "metadata": {},
   "outputs": [],
   "source": [
    "##Random forest classifier\n",
    "clf = RandomForestClassifier(max_depth=2, random_state=0)"
   ]
  },
  {
   "cell_type": "code",
   "execution_count": 395,
   "metadata": {},
   "outputs": [
    {
     "data": {
      "text/plain": [
       "0.5122519525331916"
      ]
     },
     "execution_count": 395,
     "metadata": {},
     "output_type": "execute_result"
    }
   ],
   "source": [
    "rfc = np.mean(cross_val_score(clf, X, y_train, cv=5, n_jobs=4))\n",
    "rfc"
   ]
  },
  {
   "cell_type": "markdown",
   "metadata": {},
   "source": [
    " PROBABILITIES\n",
    " \n",
    ". First we would choose a random sentence, question if you like.\n",
    "\n",
    ".Then assign it to a subreddit and try to predict the its probability of being label as sarcastic\n",
    "\n",
    ".We predicted the probabilities of all the individual text in our document, showing an array of probabilities\n",
    "\n",
    ".Then finaly we predict the pobability of our random sentence."
   ]
  },
  {
   "cell_type": "code",
   "execution_count": 421,
   "metadata": {},
   "outputs": [],
   "source": [
    "sample = {'subreddit': ['politics'], \n",
    "          #'parent_comment': ['what would you do if you met Barrack Obama']}\n",
    "          'parent_comment': ['who is americas best president']}\n",
    "comb = pd.DataFrame(sample)\n",
    "X_parent = tf_idf_parent.transform(comb['parent_comment'])\n",
    "X_subreddit = tf_idf_subreddit.transform(comb['subreddit'])\n",
    "X_p = hstack([X_parent, X_subreddit])"
   ]
  },
  {
   "cell_type": "code",
   "execution_count": 422,
   "metadata": {},
   "outputs": [
    {
     "name": "stderr",
     "output_type": "stream",
     "text": [
      "[Parallel(n_jobs=4)]: Using backend LokyBackend with 4 concurrent workers.\n",
      "[Parallel(n_jobs=4)]: Done   1 out of   1 | elapsed:   44.1s finished\n"
     ]
    },
    {
     "data": {
      "text/plain": [
       "array([[0.4517733 , 0.5482267 ],\n",
       "       [0.39437599, 0.60562401],\n",
       "       [0.6458385 , 0.3541615 ],\n",
       "       ...,\n",
       "       [0.57832086, 0.42167914],\n",
       "       [0.60963415, 0.39036585],\n",
       "       [0.49903419, 0.50096581]])"
      ]
     },
     "execution_count": 422,
     "metadata": {},
     "output_type": "execute_result"
    }
   ],
   "source": [
    "##Logistic regression\n",
    "logit.fit(X, y_train)\n",
    "logit.predict_proba(X)"
   ]
  },
  {
   "cell_type": "code",
   "execution_count": 429,
   "metadata": {},
   "outputs": [
    {
     "data": {
      "text/plain": [
       "array([[0.39840311, 0.60159689]])"
      ]
     },
     "execution_count": 429,
     "metadata": {},
     "output_type": "execute_result"
    }
   ],
   "source": [
    "logit.predict_proba(X_p)"
   ]
  },
  {
   "cell_type": "code",
   "execution_count": 424,
   "metadata": {},
   "outputs": [
    {
     "data": {
      "text/plain": [
       "array([[0.34067858, 0.65932142],\n",
       "       [0.39108786, 0.60891214],\n",
       "       [0.75888798, 0.24111202],\n",
       "       ...,\n",
       "       [0.54963294, 0.45036706],\n",
       "       [0.63610449, 0.36389551],\n",
       "       [0.54109197, 0.45890803]])"
      ]
     },
     "execution_count": 424,
     "metadata": {},
     "output_type": "execute_result"
    }
   ],
   "source": [
    "##Naive Bayes\n",
    "NB.fit(X, y_train)\n",
    "NB.predict_proba(X)"
   ]
  },
  {
   "cell_type": "code",
   "execution_count": 425,
   "metadata": {},
   "outputs": [
    {
     "data": {
      "text/plain": [
       "array([[0.31654635, 0.68345365]])"
      ]
     },
     "execution_count": 425,
     "metadata": {},
     "output_type": "execute_result"
    }
   ],
   "source": [
    "NB.predict_proba(X_p)"
   ]
  },
  {
   "cell_type": "code",
   "execution_count": 426,
   "metadata": {},
   "outputs": [
    {
     "data": {
      "text/plain": [
       "array([[0.50033516, 0.49966484],\n",
       "       [0.4915197 , 0.5084803 ],\n",
       "       [0.50033516, 0.49966484],\n",
       "       ...,\n",
       "       [0.50033516, 0.49966484],\n",
       "       [0.50033516, 0.49966484],\n",
       "       [0.50033516, 0.49966484]])"
      ]
     },
     "execution_count": 426,
     "metadata": {},
     "output_type": "execute_result"
    }
   ],
   "source": [
    "##Random forest classifier\n",
    "clf.fit(X, y_train)\n",
    "clf.predict_proba(X)"
   ]
  },
  {
   "cell_type": "code",
   "execution_count": 427,
   "metadata": {},
   "outputs": [
    {
     "data": {
      "text/plain": [
       "array([[0.47931513, 0.52068487]])"
      ]
     },
     "execution_count": 427,
     "metadata": {},
     "output_type": "execute_result"
    }
   ],
   "source": [
    "clf.predict_proba(X_p)"
   ]
  },
  {
   "cell_type": "markdown",
   "metadata": {},
   "source": [
    "# Neural network"
   ]
  },
  {
   "cell_type": "code",
   "execution_count": 315,
   "metadata": {},
   "outputs": [],
   "source": [
    "X= train_df['subreddit'].str.cat(train_df['parent_comment'],sep=\" \")"
   ]
  },
  {
   "cell_type": "code",
   "execution_count": 204,
   "metadata": {},
   "outputs": [],
   "source": [
    "#X= train_df['subreddit'] + train_df['parent_comment']"
   ]
  },
  {
   "cell_type": "code",
   "execution_count": 205,
   "metadata": {},
   "outputs": [
    {
     "data": {
      "text/plain": [
       "(1010707,)"
      ]
     },
     "execution_count": 205,
     "metadata": {},
     "output_type": "execute_result"
    }
   ],
   "source": [
    "X.shape"
   ]
  },
  {
   "cell_type": "code",
   "execution_count": 316,
   "metadata": {},
   "outputs": [],
   "source": [
    "tokenizer = Tokenizer()\n",
    "tokenizer.fit_on_texts(X)\n",
    "sequences = tokenizer.texts_to_sequences(X)\n",
    "#\n",
    "word_index = tokenizer.word_index\n",
    "X = pad_sequences(sequences, maxlen=120)\n",
    "y = (np.asarray(y))\n",
    "X_train, X_test, y_train, y_test = train_test_split(X, y, test_size=0.20, random_state=42)"
   ]
  },
  {
   "cell_type": "code",
   "execution_count": 208,
   "metadata": {},
   "outputs": [
    {
     "data": {
      "text/plain": [
       "(808565, 120)"
      ]
     },
     "execution_count": 208,
     "metadata": {},
     "output_type": "execute_result"
    }
   ],
   "source": [
    "X_train.shape"
   ]
  },
  {
   "cell_type": "code",
   "execution_count": 209,
   "metadata": {},
   "outputs": [],
   "source": [
    "#Preprocessing the training and test headlines for the word embedding\n",
    "vocab_size = len(word_index) + 1\n",
    "embedding_dim = 16\n",
    "max_length = 120\n",
    "trunc_type='post'\n",
    "oov_tok = \"<OOV>\"\n",
    "\n",
    "import tensorflow as tf\n",
    "from tensorflow import keras\n",
    "from tensorflow.keras.preprocessing.text import Tokenizer\n",
    "from tensorflow.keras.preprocessing.sequence import pad_sequences"
   ]
  },
  {
   "cell_type": "code",
   "execution_count": 210,
   "metadata": {},
   "outputs": [],
   "source": [
    "#Building the CNN Model\n",
    "model_conv = tf.keras.Sequential([\n",
    "    tf.keras.layers.Embedding(vocab_size, embedding_dim, input_length=max_length),\n",
    "    tf.keras.layers.Conv1D(16,3,activation='relu'),\n",
    "    tf.keras.layers.MaxPooling1D(2),\n",
    "    tf.keras.layers.Flatten(),\n",
    "    tf.keras.layers.Dense(6, activation='relu'),\n",
    "    tf.keras.layers.Dense(1, activation='sigmoid')\n",
    "])"
   ]
  },
  {
   "cell_type": "code",
   "execution_count": 211,
   "metadata": {},
   "outputs": [
    {
     "name": "stdout",
     "output_type": "stream",
     "text": [
      "Model: \"sequential_3\"\n",
      "_________________________________________________________________\n",
      "Layer (type)                 Output Shape              Param #   \n",
      "=================================================================\n",
      "embedding_3 (Embedding)      (None, 120, 16)           4270432   \n",
      "_________________________________________________________________\n",
      "conv1d_3 (Conv1D)            (None, 118, 16)           784       \n",
      "_________________________________________________________________\n",
      "max_pooling1d_3 (MaxPooling1 (None, 59, 16)            0         \n",
      "_________________________________________________________________\n",
      "flatten_3 (Flatten)          (None, 944)               0         \n",
      "_________________________________________________________________\n",
      "dense_6 (Dense)              (None, 6)                 5670      \n",
      "_________________________________________________________________\n",
      "dense_7 (Dense)              (None, 1)                 7         \n",
      "=================================================================\n",
      "Total params: 4,276,893\n",
      "Trainable params: 4,276,893\n",
      "Non-trainable params: 0\n",
      "_________________________________________________________________\n"
     ]
    }
   ],
   "source": [
    "model_conv.summary()"
   ]
  },
  {
   "cell_type": "code",
   "execution_count": 212,
   "metadata": {},
   "outputs": [],
   "source": [
    "model_conv.compile(loss='binary_crossentropy',optimizer='adam',metrics=['accuracy'])"
   ]
  },
  {
   "cell_type": "code",
   "execution_count": 213,
   "metadata": {
    "scrolled": true
   },
   "outputs": [
    {
     "name": "stdout",
     "output_type": "stream",
     "text": [
      "Train on 808565 samples, validate on 202142 samples\n",
      "Epoch 1/20\n",
      "808565/808565 [==============================] - 1233s 2ms/sample - loss: 0.6932 - acc: 0.4998 - val_loss: 0.6932 - val_acc: 0.4996\n",
      "Epoch 2/20\n",
      "808565/808565 [==============================] - 1233s 2ms/sample - loss: 0.6932 - acc: 0.4994 - val_loss: 0.6932 - val_acc: 0.5004\n",
      "Epoch 3/20\n",
      "808565/808565 [==============================] - 1224s 2ms/sample - loss: 0.6932 - acc: 0.4992 - val_loss: 0.6932 - val_acc: 0.4996\n",
      "Epoch 4/20\n",
      "808565/808565 [==============================] - 1263s 2ms/sample - loss: 0.6932 - acc: 0.5005 - val_loss: 0.6932 - val_acc: 0.5004\n",
      "Epoch 5/20\n",
      "808565/808565 [==============================] - 1290s 2ms/sample - loss: 0.6932 - acc: 0.4995 - val_loss: 0.6931 - val_acc: 0.4996\n",
      "Epoch 6/20\n",
      "808565/808565 [==============================] - 1350s 2ms/sample - loss: 0.6932 - acc: 0.4997 - val_loss: 0.6932 - val_acc: 0.4996\n",
      "Epoch 7/20\n",
      "808565/808565 [==============================] - 1255s 2ms/sample - loss: 0.6932 - acc: 0.4999 - val_loss: 0.6931 - val_acc: 0.5004\n",
      "Epoch 8/20\n",
      "808565/808565 [==============================] - 9240s 11ms/sample - loss: 0.6932 - acc: 0.4994 - val_loss: 0.6931 - val_acc: 0.5004\n",
      "Epoch 9/20\n",
      "808565/808565 [==============================] - 6199s 8ms/sample - loss: 0.6932 - acc: 0.4993 - val_loss: 0.6932 - val_acc: 0.4996\n",
      "Epoch 10/20\n",
      "808565/808565 [==============================] - 17397s 22ms/sample - loss: 0.6932 - acc: 0.5007 - val_loss: 0.6932 - val_acc: 0.5004\n",
      "Epoch 11/20\n",
      "808565/808565 [==============================] - 1241s 2ms/sample - loss: 0.6932 - acc: 0.5005 - val_loss: 0.6931 - val_acc: 0.5004\n",
      "Epoch 12/20\n",
      "808565/808565 [==============================] - 1466s 2ms/sample - loss: 0.6932 - acc: 0.4995 - val_loss: 0.6932 - val_acc: 0.4996\n",
      "Epoch 13/20\n",
      "808565/808565 [==============================] - 4845s 6ms/sample - loss: 0.6932 - acc: 0.4997 - val_loss: 0.6932 - val_acc: 0.4996\n",
      "Epoch 14/20\n",
      "808565/808565 [==============================] - 5212s 6ms/sample - loss: 0.6932 - acc: 0.4987 - val_loss: 0.6932 - val_acc: 0.5004\n",
      "Epoch 15/20\n",
      "808565/808565 [==============================] - 3909s 5ms/sample - loss: 0.6932 - acc: 0.4996 - val_loss: 0.6932 - val_acc: 0.4996\n",
      "Epoch 16/20\n",
      "808565/808565 [==============================] - 2269s 3ms/sample - loss: 0.6932 - acc: 0.5010 - val_loss: 0.6932 - val_acc: 0.4996\n",
      "Epoch 17/20\n",
      "808565/808565 [==============================] - 1308s 2ms/sample - loss: 0.6932 - acc: 0.4995 - val_loss: 0.6932 - val_acc: 0.5004\n",
      "Epoch 18/20\n",
      "808565/808565 [==============================] - 1314s 2ms/sample - loss: 0.6932 - acc: 0.4993 - val_loss: 0.6931 - val_acc: 0.4996\n",
      "Epoch 19/20\n",
      "808565/808565 [==============================] - 1222s 2ms/sample - loss: 0.6932 - acc: 0.4992 - val_loss: 0.6932 - val_acc: 0.4996\n",
      "Epoch 20/20\n",
      "808565/808565 [==============================] - 1539s 2ms/sample - loss: 0.6932 - acc: 0.5010 - val_loss: 0.6932 - val_acc: 0.5004\n"
     ]
    }
   ],
   "source": [
    "num_epochs = 20\n",
    "history=model_conv.fit(X_train, y_train, epochs=num_epochs, validation_data=(X_test, y_test))"
   ]
  },
  {
   "cell_type": "code",
   "execution_count": 343,
   "metadata": {},
   "outputs": [],
   "source": [
    "cnn= 0.5004\n",
    "hv = [lgr, svm, nbs, rfc, cnn]\n",
    "nc = ['logit', 'svm', 'naive', 'rfc', 'cnn']"
   ]
  },
  {
   "cell_type": "code",
   "execution_count": 346,
   "metadata": {},
   "outputs": [
    {
     "data": {
      "image/png": "[encoded data removed]",
      "text/plain": [
       "<Figure size 432x288 with 1 Axes>"
      ]
     },
     "metadata": {
      "needs_background": "light"
     },
     "output_type": "display_data"
    }
   ],
   "source": [
    "plt.bar(x = nc, height = hv)\n",
    "plt.ylabel('CV Score')\n",
    "plt.ylim((0.45, 0.6))\n",
    "plt.xlabel('Models')\n",
    "plt.xticks(rotation='vertical')\n",
    "plt.savefig('hist.png')\n",
    "plt.savefig('hist.pdf')"
   ]
  },
  {
   "cell_type": "code",
   "execution_count": null,
   "metadata": {},
   "outputs": [],
   "source": []
  }
 ],
 "metadata": {
  "kernelspec": {
   "display_name": "Python 3",
   "language": "python",
   "name": "python3"
  },
  "language_info": {
   "codemirror_mode": {
    "name": "ipython",
    "version": 3
   },
   "file_extension": ".py",
   "mimetype": "text/x-python",
   "name": "python",
   "nbconvert_exporter": "python",
   "pygments_lexer": "ipython3",
   "version": "3.7.4"
  }
 },
 "nbformat": 4,
 "nbformat_minor": 2
}
